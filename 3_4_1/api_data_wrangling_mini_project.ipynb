{
 "cells": [
  {
   "cell_type": "markdown",
   "metadata": {},
   "source": [
    "This exercise will require you to pull some data from the Qunadl API. Qaundl is currently the most widely used aggregator of financial market data."
   ]
  },
  {
   "cell_type": "markdown",
   "metadata": {},
   "source": [
    "As a first step, you will need to register a free account on the http://www.quandl.com website."
   ]
  },
  {
   "cell_type": "markdown",
   "metadata": {},
   "source": [
    "After you register, you will be provided with a unique API key, that you should store:"
   ]
  },
  {
   "cell_type": "code",
   "execution_count": 1,
   "metadata": {},
   "outputs": [],
   "source": [
    "# Store the API key as a string - according to PEP8, constants are always named in all upper case\n",
    "API_KEY = '5_dcLN33pY-Rswbv9WLq'"
   ]
  },
  {
   "cell_type": "markdown",
   "metadata": {},
   "source": [
    "Qaundl has a large number of data sources, but, unfortunately, most of them require a Premium subscription. Still, there are also a good number of free datasets."
   ]
  },
  {
   "cell_type": "markdown",
   "metadata": {},
   "source": [
    "For this mini project, we will focus on equities data from the Frankfurt Stock Exhange (FSE), which is available for free. We'll try and analyze the stock prices of a company called Carl Zeiss Meditec, which manufactures tools for eye examinations, as well as medical lasers for laser eye surgery: https://www.zeiss.com/meditec/int/home.html. The company is listed under the stock ticker AFX_X."
   ]
  },
  {
   "cell_type": "markdown",
   "metadata": {},
   "source": [
    "You can find the detailed Quandl API instructions here: https://docs.quandl.com/docs/time-series"
   ]
  },
  {
   "cell_type": "markdown",
   "metadata": {},
   "source": [
    "While there is a dedicated Python package for connecting to the Quandl API, we would prefer that you use the *requests* package, which can be easily downloaded using *pip* or *conda*. You can find the documentation for the package here: http://docs.python-requests.org/en/master/ "
   ]
  },
  {
   "cell_type": "markdown",
   "metadata": {},
   "source": [
    "Finally, apart from the *requests* package, you are encouraged to not use any third party Python packages, such as *pandas*, and instead focus on what's available in the Python Standard Library (the *collections* module might come in handy: https://pymotw.com/3/collections/).\n",
    "Also, since you won't have access to DataFrames, you are encouraged to us Python's native data structures - preferably dictionaries, though some questions can also be answered using lists.\n",
    "You can read more on these data structures here: https://docs.python.org/3/tutorial/datastructures.html"
   ]
  },
  {
   "cell_type": "markdown",
   "metadata": {},
   "source": [
    "Keep in mind that the JSON responses you will be getting from the API map almost one-to-one to Python's dictionaries. Unfortunately, they can be very nested, so make sure you read up on indexing dictionaries in the documentation provided above."
   ]
  },
  {
   "cell_type": "code",
   "execution_count": 2,
   "metadata": {},
   "outputs": [],
   "source": [
    "# First, import the relevant modules\n",
    "import requests\n",
    "import json\n",
    "import re\n"
   ]
  },
  {
   "cell_type": "code",
   "execution_count": 4,
   "metadata": {},
   "outputs": [],
   "source": [
    "# Now, call the Quandl API and pull the data\n",
    "# into the JSON structure that will be returned\n",
    "BASE_URL = f'https://www.quandl.com/api/v3/datasets/FSE/AFX_X.json?start_date=2017-01-01&end_date=2017-12-31api_key={API_KEY}'\n",
    "apiResponse = requests.get(url=BASE_URL)"
   ]
  },
  {
   "cell_type": "code",
   "execution_count": 6,
   "metadata": {},
   "outputs": [],
   "source": [
    "# Inspect the JSON structure of the object you created, and take note of how nested it is,\n",
    "# as well as the overall structure\n",
    "data_dict = json.loads(apiResponse.content.decode('utf-8'))"
   ]
  },
  {
   "cell_type": "markdown",
   "metadata": {},
   "source": [
    "These are your tasks for this mini project:\n",
    "\n",
    "1. Collect data from the Franfurt Stock Exchange, for the ticker AFX_X, for the whole year 2017 (keep in mind that the date format is YYYY-MM-DD).\n",
    "2. Convert the returned JSON object into a Python dictionary.\n",
    "3. Calculate what the highest and lowest opening prices were for the stock in this period.\n",
    "4. What was the largest change in any one day (based on High and Low price)?\n",
    "5. What was the largest change between any two days (based on Closing Price)?\n",
    "6. What was the average daily trading volume during this year?\n",
    "7. (Optional) What was the median trading volume during this year. (Note: you may need to implement your own function for calculating the median.)"
   ]
  },
  {
   "cell_type": "code",
   "execution_count": 7,
   "metadata": {},
   "outputs": [],
   "source": [
    "# -------------------------- Sorting Functions(Merge Sort) --------------------------\n",
    "def merge_sort(unsorted_list):\n",
    "    if len(unsorted_list) <= 1:\n",
    "        return unsorted_list\n",
    "\n",
    "    middle = len(unsorted_list) // 2\n",
    "    left_list = unsorted_list[:middle]\n",
    "    right_list = unsorted_list[middle:]\n",
    "\n",
    "    left_list = merge_sort(left_list)\n",
    "    right_list = merge_sort(right_list)\n",
    "    return list(merge(left_list, right_list))\n",
    "\n",
    "\n",
    "def merge(left_half,right_half):\n",
    "\n",
    "    res = []\n",
    "    while len(left_half) != 0 and len(right_half) != 0:\n",
    "        if left_half[0] < right_half[0]:\n",
    "            res.append(left_half[0])\n",
    "            left_half.remove(left_half[0])\n",
    "        else:\n",
    "            res.append(right_half[0])\n",
    "            right_half.remove(right_half[0])\n",
    "    if len(left_half) == 0:\n",
    "        res = res + right_half\n",
    "    else:\n",
    "        res = res + left_half\n",
    "    return res\n",
    "\n",
    "\n",
    "# ------------------------- Function to find median in a sorted list --------------------------\n",
    "def median(sorted_list):\n",
    "    n = len(sorted_list)\n",
    "    if n % 2 == 0:\n",
    "        median1 = sorted_list[n//2] \n",
    "        median2 = sorted_list[n//2 - 1] \n",
    "        median = (median1 + median2)/2\n",
    "    else:\n",
    "        median = sorted_list[n//2]\n",
    "    \n",
    "    return median"
   ]
  },
  {
   "cell_type": "code",
   "execution_count": 9,
   "metadata": {},
   "outputs": [
    {
     "name": "stdout",
     "output_type": "stream",
     "text": [
      "-------------------------------------------------------------- Out of loop --------------------------------------------------------------\n",
      "total entries: 255\n",
      "Highest Opening price in period: 53.11\n",
      "Lowest opening price in period: 34.0\n",
      "largest change in one day: 2.81\n",
      "average daily trading volume: 89124.33725490196\n",
      "median daily trading volume: 76286.0\n"
     ]
    }
   ],
   "source": [
    "highestOpening = 0\n",
    "lowestOpening = 9999999\n",
    "largestChange = 0\n",
    "sum = 0\n",
    "unsortedTradingVolumeArray = []\n",
    "\n",
    "# print('----------------- DATA TYPE -----------------')\n",
    "# print(data_dict['dataset']['column_names'])\n",
    "\n",
    "\n",
    "\n",
    "# -------- Calculate what the highest and lowest opening prices were for the stock in this period.\n",
    "# -------- What was the largest change in any one day (based on High and Low price)?\n",
    "# -------- What was the largest change between any two days (based on Closing Price)?\n",
    "# -------- What was the average daily trading volume during this year?\n",
    "# -------- (Optional) What was the median trading volume during this year. (Note: you may need to implement your own function for calculating the median.)\n",
    "for eachElement in data_dict['dataset']['data']:\n",
    "    change = eachElement[2] - eachElement[3]\n",
    "    change = round(change,2)\n",
    "    sum = sum + eachElement[6]\n",
    "    unsortedTradingVolumeArray.append(eachElement[6])\n",
    "\n",
    "    # print('------------------------------- In Loop -------------------------------')\n",
    "    # print(eachElement)\n",
    "    # print('current open price:', eachElement[1])\n",
    "    # print('current opening high:', highestOpening)\n",
    "    # print('current opening low:', lowestOpening)\n",
    "    # print('current daily change:', change)\n",
    "    # print('largest daily change:', largestChange)\n",
    "\n",
    "    # Check if the element is not null\n",
    "    if eachElement[1]:\n",
    "        if eachElement[1] > highestOpening:\n",
    "            highestOpening = eachElement[1]\n",
    "        if eachElement[1] < lowestOpening:\n",
    "            lowestOpening = eachElement[1]\n",
    "        if change > largestChange:\n",
    "            largestChange = change\n",
    "\n",
    "\n",
    "\n",
    "averageDailyTradingVolume = sum / len(data_dict['dataset']['data'])\n",
    "sortedDailyTradingVolume = merge_sort(unsortedTradingVolumeArray)\n",
    "medianDailyTradingVolume = median(sortedDailyTradingVolume)\n",
    "print('-------------------------------------------------------------- Out of loop --------------------------------------------------------------')\n",
    "print('total entries:', len(sortedDailyTradingVolume))\n",
    "print('Highest Opening price in period:', highestOpening)\n",
    "print('Lowest opening price in period:', lowestOpening)\n",
    "print('largest change in one day:', largestChange)\n",
    "print('average daily trading volume:', averageDailyTradingVolume)\n",
    "print('median daily trading volume:', medianDailyTradingVolume)"
   ]
  },
  {
   "cell_type": "code",
   "execution_count": null,
   "metadata": {},
   "outputs": [],
   "source": []
  }
 ],
 "metadata": {
  "kernelspec": {
   "display_name": "Python 3",
   "language": "python",
   "name": "python3"
  },
  "language_info": {
   "codemirror_mode": {
    "name": "ipython",
    "version": 3
   },
   "file_extension": ".py",
   "mimetype": "text/x-python",
   "name": "python",
   "nbconvert_exporter": "python",
   "pygments_lexer": "ipython3",
   "version": "3.7.6"
  }
 },
 "nbformat": 4,
 "nbformat_minor": 4
}
